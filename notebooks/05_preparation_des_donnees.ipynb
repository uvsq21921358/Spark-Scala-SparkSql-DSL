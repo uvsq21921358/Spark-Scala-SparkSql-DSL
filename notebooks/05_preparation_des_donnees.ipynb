{
 "cells": [
  {
   "cell_type": "markdown",
   "metadata": {},
   "source": [
    "# Vérifier le contenu du fichier"
   ]
  },
  {
   "cell_type": "code",
   "execution_count": 2,
   "metadata": {},
   "outputs": [
    {
     "data": {
      "text/plain": [
       "prenoms: org.apache.spark.rdd.RDD[String] = prenoms.txt MapPartitionsRDD[3] at textFile at <console>:25\n",
       "res1: Array[String] = Array(1;ÉRIC;1968;13;9, 2;ROLANDE;1931;44;13, 1;ELIO;2006;13;7, 1;CHRISTOPHE;1962;64;40, 1;AURÉLIEN;2008;24;3, 2;NICOLE;1933;23;4, 2;ALWENA;2002;29;11, 1;RODOLPHE;1976;56;4, 1;CHRISTIAN;1967;27;25, 2;MARINA;1973;53;16)\n"
      ]
     },
     "execution_count": 2,
     "metadata": {},
     "output_type": "execute_result"
    }
   ],
   "source": [
    "val prenoms = sc.textFile(\"prenoms.txt\")\n",
    "prenoms.takeSample(false, 10)"
   ]
  },
  {
   "cell_type": "markdown",
   "metadata": {},
   "source": [
    "# Extraire et sauvegarder un échantillon\n",
    "1. Expliquer ce que fait la ligne suivante"
   ]
  },
  {
   "cell_type": "code",
   "execution_count": 3,
   "metadata": {},
   "outputs": [],
   "source": [
    "prenoms.filter(l => l.startsWith(\"sexe\") == false).filter(l => l.contains(\"XX\") == false).sample(false, .001).saveAsTextFile(\"prenoms_sample.txt\")"
   ]
  },
  {
   "cell_type": "markdown",
   "metadata": {},
   "source": [
    "Cette requete permet de faire une lecture aleatoire tout en ignorant la premiere ligne (ligne contenant le mot sexe) ainsi que l'annee de naissance non renseignant ( valeur a xx). LE resultat de la lecture aleatoire est stocke dans le fichier prenoms_sample.txt, et ces donnees representent 1/1000 des donnees du fichier. "
   ]
  },
  {
   "cell_type": "markdown",
   "metadata": {},
   "source": [
    "# Vérifier l'échantillon"
   ]
  },
  {
   "cell_type": "code",
   "execution_count": 4,
   "metadata": {},
   "outputs": [
    {
     "name": "stdout",
     "output_type": "stream",
     "text": [
      "3619\n",
      "0\n",
      "0\n"
     ]
    },
    {
     "data": {
      "text/plain": [
       "echantillon: org.apache.spark.rdd.RDD[String] = prenoms_sample.txt MapPartitionsRDD[10] at textFile at <console>:25\n"
      ]
     },
     "execution_count": 4,
     "metadata": {},
     "output_type": "execute_result"
    }
   ],
   "source": [
    "val echantillon = sc.textFile(\"prenoms_sample.txt\")\n",
    "println(echantillon.count)\n",
    "println(echantillon.filter(l => l.startsWith(\"sexe\")).count)\n",
    "println(echantillon.filter(l => l.contains(\"XX\")).count)"
   ]
  },
  {
   "cell_type": "code",
   "execution_count": null,
   "metadata": {},
   "outputs": [],
   "source": []
  }
 ],
 "metadata": {
  "kernelspec": {
   "display_name": "spylon-kernel",
   "language": "scala",
   "name": "spylon-kernel"
  },
  "language_info": {
   "codemirror_mode": "text/x-scala",
   "file_extension": ".scala",
   "help_links": [
    {
     "text": "MetaKernel Magics",
     "url": "https://metakernel.readthedocs.io/en/latest/source/README.html"
    }
   ],
   "mimetype": "text/x-scala",
   "name": "scala",
   "pygments_lexer": "scala",
   "version": "0.4.1"
  }
 },
 "nbformat": 4,
 "nbformat_minor": 2
}
