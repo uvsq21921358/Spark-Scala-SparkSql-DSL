{
 "cells": [
  {
   "cell_type": "markdown",
   "metadata": {},
   "source": [
    "# Une fonction pour simplifier l'accès aux données"
   ]
  },
  {
   "cell_type": "code",
   "execution_count": 19,
   "metadata": {},
   "outputs": [
    {
     "data": {
      "text/plain": [
       "extractField: (s: String, fieldNumber: Int)String\n"
      ]
     },
     "execution_count": 19,
     "metadata": {},
     "output_type": "execute_result"
    }
   ],
   "source": [
    "def extractField(s: String, fieldNumber: Int): String = {\n",
    "    val fields = s.split(';')\n",
    "    if (fieldNumber >= fields.length) \"\" else fields(fieldNumber)\n",
    "}"
   ]
  },
  {
   "cell_type": "code",
   "execution_count": 18,
   "metadata": {},
   "outputs": [
    {
     "data": {
      "text/plain": [
       "extractFieldS: (s: String, fieldNumber: Int)String\n"
      ]
     },
     "execution_count": 18,
     "metadata": {},
     "output_type": "execute_result"
    }
   ],
   "source": [
    "def extractFieldS(s: String, fieldNumber: Int): String = {\n",
    "    val fields = s.split(',')\n",
    "    if (fieldNumber >= fields.length) \"\" else fields(fieldNumber)\n",
    "}"
   ]
  },
  {
   "cell_type": "code",
   "execution_count": 2,
   "metadata": {},
   "outputs": [
    {
     "name": "stdout",
     "output_type": "stream",
     "text": [
      "2\n",
      "CASSIOPEE\n",
      "2009\n",
      "33\n",
      "3\n",
      "\n"
     ]
    }
   ],
   "source": [
    "println(extractField(\"2;CASSIOPEE;2009;33;3\", 0))\n",
    "println(extractField(\"2;CASSIOPEE;2009;33;3\", 1))\n",
    "println(extractField(\"2;CASSIOPEE;2009;33;3\", 2))\n",
    "println(extractField(\"2;CASSIOPEE;2009;33;3\", 3))\n",
    "println(extractField(\"2;CASSIOPEE;2009;33;3\", 4))\n",
    "println(extractField(\"2;CASSIOPEE;2009;33;3\", 5))"
   ]
  },
  {
   "cell_type": "markdown",
   "metadata": {},
   "source": [
    "# Charger les données\n",
    "1. Créer le RDD `lignes` à partir du répertoire `prenoms_sample.txt`"
   ]
  },
  {
   "cell_type": "code",
   "execution_count": 3,
   "metadata": {},
   "outputs": [
    {
     "name": "stdout",
     "output_type": "stream",
     "text": [
      "2;MELISSANDRE;2006;54;3\n",
      "2;MELLINA;2016;59;11\n",
      "2;MELODY;1989;77;6\n",
      "2;MÉLYNE;2014;68;5\n",
      "2;MERCEDES;1966;75;10\n",
      "2;MEREDITH;2002;974;7\n",
      "2;MERIEM;1991;25;3\n",
      "2;MERVE;1999;25;3\n",
      "2;MERYL;2000;91;3\n",
      "2;MICHÈLE;1942;59;204\n"
     ]
    },
    {
     "data": {
      "text/plain": [
       "lignes: org.apache.spark.rdd.RDD[String] = prenoms_sample.txt MapPartitionsRDD[1] at textFile at <console>:25\n"
      ]
     },
     "execution_count": 3,
     "metadata": {},
     "output_type": "execute_result"
    }
   ],
   "source": [
    "val lignes = sc.textFile(\"prenoms_sample.txt\")\n",
    "lignes.take(10).foreach(println)"
   ]
  },
  {
   "cell_type": "markdown",
   "metadata": {},
   "source": [
    "# Transformer les lignes en prénoms\n",
    "1. En appliquant la méthode `map`, créer le RDD `prenoms` à partir de `lignes`"
   ]
  },
  {
   "cell_type": "code",
   "execution_count": 4,
   "metadata": {},
   "outputs": [
    {
     "name": "stdout",
     "output_type": "stream",
     "text": [
      "(2,MELISSANDRE,2006,54,3)\n",
      "(2,MELLINA,2016,59,11)\n",
      "(2,MELODY,1989,77,6)\n",
      "(2,MÉLYNE,2014,68,5)\n",
      "(2,MERCEDES,1966,75,10)\n",
      "(2,MEREDITH,2002,974,7)\n",
      "(2,MERIEM,1991,25,3)\n",
      "(2,MERVE,1999,25,3)\n",
      "(2,MERYL,2000,91,3)\n",
      "(2,MICHÈLE,1942,59,204)\n"
     ]
    },
    {
     "data": {
      "text/plain": [
       "prenoms: org.apache.spark.rdd.RDD[(Char, String, Int, Int, Int)] = MapPartitionsRDD[2] at map at <console>:28\n"
      ]
     },
     "execution_count": 4,
     "metadata": {},
     "output_type": "execute_result"
    }
   ],
   "source": [
    "val prenoms = lignes.map(l => (\n",
    "    extractField(l, 0).charAt(0),\n",
    "    extractField(l, 1),\n",
    "    extractField(l, 2).toInt,\n",
    "    extractField(l, 3).toInt,\n",
    "    extractField(l, 4).toDouble.toInt\n",
    "))\n",
    "prenoms.take(10).foreach(println)"
   ]
  },
  {
   "cell_type": "markdown",
   "metadata": {},
   "source": [
    "# Interroger les données\n",
    "La documentation des méthodes d'un RDD est disponible ([RDD](https://spark.apache.org/docs/latest/api/scala/index.html#org.apache.spark.rdd.RDD), [PairRDDFunctions](https://spark.apache.org/docs/latest/api/scala/index.html#org.apache.spark.rdd.PairRDDFunctions)).\n",
    "\n",
    "1. Rappeler ce que sont les *transformations* et les *actions*\n",
    "1. Donner, pour chaque prénom, son nombre d'occurences (`map` et `reduceByKey`)"
   ]
  },
  {
   "cell_type": "code",
   "execution_count": 5,
   "metadata": {},
   "outputs": [
    {
     "name": "stdout",
     "output_type": "stream",
     "text": [
      "(JOVANE,1)\n",
      "(SALAHDINE,3)\n",
      "(JENNYFER,321)\n",
      "(KONA,2)\n",
      "(YUSSRA,1)\n",
      "(NATIVA,1)\n",
      "(MOHAMED-SAÏD,1)\n",
      "(CAGLAR,2)\n",
      "(HAFIZA,2)\n",
      "(PAUL,10622)\n",
      "(MAYEDINE,1)\n",
      "(HORTENSE,1534)\n",
      "(INAH,1)\n",
      "(AUXENCE,80)\n",
      "(AXÈLE,1)\n",
      "(IVELISE,1)\n",
      "(MAÏLYNN,1)\n",
      "(FALLON,9)\n",
      "(MARLYSE,105)\n",
      "(HÉLIANE,1)\n"
     ]
    },
    {
     "data": {
      "text/plain": [
       "prenom: org.apache.spark.rdd.RDD[String] = prenoms.txt MapPartitionsRDD[4] at textFile at <console>:29\n",
       "prenomMap: org.apache.spark.rdd.RDD[(String, Int)] = MapPartitionsRDD[5] at map at <console>:30\n",
       "prenomReduce: org.apache.spark.rdd.RDD[(String, Int)] = ShuffledRDD[6] at reduceByKey at <console>:31\n"
      ]
     },
     "execution_count": 5,
     "metadata": {},
     "output_type": "execute_result"
    }
   ],
   "source": [
    "//une transformation retourne un nouvel RDD par transformation du RDD courant\n",
    "// une action déclenche le calcul d’une valeur sur un RDD\n",
    "val prenom = sc.textFile(\"prenoms.txt\")\n",
    "val prenomMap = prenom.map(l=> (extractField(l, 1),1))\n",
    "val prenomReduce = prenomMap.reduceByKey((l,x)=> (l+x))\n",
    "prenomReduce.take(20).foreach(println)\n"
   ]
  },
  {
   "cell_type": "markdown",
   "metadata": {},
   "source": [
    "1. Donner le nombre total de naissances avec un prénom féminin (`filter`, `map`, `reduce` ou `sum`)"
   ]
  },
  {
   "cell_type": "code",
   "execution_count": 7,
   "metadata": {},
   "outputs": [
    {
     "data": {
      "text/plain": [
       "res5: Int = 36604\n"
      ]
     },
     "execution_count": 7,
     "metadata": {},
     "output_type": "execute_result"
    }
   ],
   "source": [
    "//TODO\n",
    "prenoms.filter(l => l._1=='2').map(l=>l._5).reduce((x,y) => x+y)"
   ]
  },
  {
   "cell_type": "markdown",
   "metadata": {},
   "source": [
    "1. Donner l'effectif maximal et minimal par prénom (`map`, `aggregateByKey`)"
   ]
  },
  {
   "cell_type": "code",
   "execution_count": 44,
   "metadata": {},
   "outputs": [
    {
     "name": "stdout",
     "output_type": "stream",
     "text": [
      "(ELÉA,(4,4))\n",
      "(NAÏL,(5,5))\n",
      "(BRICE,(6,28))\n",
      "(MAROUANE,(4,4))\n",
      "(ROSALIE,(9,9))\n",
      "(ASSIA,(3,3))\n",
      "(FAUVE,(4,4))\n",
      "(JOËLLE,(3,12))\n",
      "(JOSUE,(6,6))\n",
      "(NICOLLE,(7,7))\n"
     ]
    },
    {
     "data": {
      "text/plain": [
       "result: org.apache.spark.rdd.RDD[(String, (Int, Int))] = ShuffledRDD[56] at aggregateByKey at <console>:36\n"
      ]
     },
     "execution_count": 44,
     "metadata": {},
     "output_type": "execute_result"
    }
   ],
   "source": [
    "//TODO\n",
    "//val prenomEffect = prenoms.map(t=>(t._2, t._5)).aggregateByKey((Int.MaxValue,Int.MinValue))(\n",
    "//    {case((m,n),c)=>(n min c, n max c)}, {case((m,n),(m1,n1))=>(m min m1, n max n1)})\n",
    "                                 \n",
    "//prenomEffect.take(10).foreach(println)\n",
    "val result = lignes.map(l => (extractField(l, 1),extractField(l, 4).toDouble.toInt))\n",
    "            .aggregateByKey((Int.MaxValue,Int.MinValue))(\n",
    "{case ((k,u),v) => (k min v, u max v)},{case ((k,u),(k1, u1)) => (k min k1, u max u1)},                \n",
    "            )\n",
    "result.take(10).foreach(println)"
   ]
  },
  {
   "cell_type": "markdown",
   "metadata": {},
   "source": [
    "1. Sur le modèle des prénoms, charger les données des départements\n",
    "1. Donner, pour chaque nom de département, le prénom le plus fréquent depuis l'année 2000"
   ]
  },
  {
   "cell_type": "code",
   "execution_count": 33,
   "metadata": {},
   "outputs": [
    {
     "ename": "<console>",
     "evalue": "39: error: overloaded method value join with alternatives:",
     "output_type": "error",
     "traceback": [
      "<console>:39: error: overloaded method value join with alternatives:",
      "  [W](other: org.apache.spark.rdd.RDD[(String, W)], numPartitions: Int)org.apache.spark.rdd.RDD[(String, (String, W))] <and>",
      "  [W](other: org.apache.spark.rdd.RDD[(String, W)])org.apache.spark.rdd.RDD[(String, (String, W))] <and>",
      "  [W](other: org.apache.spark.rdd.RDD[(String, W)], partitioner: org.apache.spark.Partitioner)org.apache.spark.rdd.RDD[(String, (String, W))]",
      " cannot be applied to (org.apache.spark.rdd.RDD[(String, String, Int)], on: String)",
      "       val join = departement.join(nom, on=\"dpt\")",
      "                              ^",
      ""
     ]
    }
   ],
   "source": [
    "//TODO\n",
    "val nom = lignes.map(l => (extractField(l, 3),extractField(l, 1),extractField(l, 2).toInt))\n",
    "val depart = sc.textFile(\"dpts.txt\")\n",
    "val departement = depart.map(t => (extractFieldS(t, 0),extractFieldS(t, 6)))\n",
    "val join = departement.join(nom, on=\"dpt\")\n",
    "//departement.take(10).foreach(println)"
   ]
  },
  {
   "cell_type": "code",
   "execution_count": 49,
   "metadata": {},
   "outputs": [
    {
     "ename": "<console>",
     "evalue": "48: error: value join is not a member of org.apache.spark.rdd.RDD[String]",
     "output_type": "error",
     "traceback": [
      "<console>:48: error: value join is not a member of org.apache.spark.rdd.RDD[String]",
      "       val result= depart.join(freqByDept).map(d =>(d._2._1._5, (d._2._2._1, d._2._2._2)))",
      "                          ^",
      ""
     ]
    }
   ],
   "source": [
    "//TODO\n",
    "//val nom = prenoms.filter(l=>l._3>=2000).map(l=>(l._4,(l._2,l._5)))\n",
    "//val dp = dpts.map(l=>(l._2,l._5))\n",
    "//val join = nom.join(nom)\n",
    "//val nbre = join.map(l=>(l._2._1,(l._2._2._1,l._2._2._2)))\n",
    "//val result = nbre.aggregateByKey((\"\",Int.MinValue)) ({case((m,n),(v1,v2))=>(if(n>v2) m else v1 , n max v2)},\n",
    "//          {case((m,n),(v1,v2))=>(if(n>v2) m else v1 , n max v2)})\n",
    "//result.take(10).foreach(println)\n",
    "var maxValue = (k:(String,Int), v:(String,Int)) => if ((k._2 max v._2)==k._2 )k else v\n",
    "var freqByDept= (prenoms.\n",
    "filter (p=> ((p._3)>1999)).\n",
    "map(p => ((p._2, p._4),p._5)).\n",
    "reduceByKey(_+_).\n",
    "map(p=>(p._1._2, (p._1._1,p._2))).\n",
    "aggregateByKey((\"NONE\",Int.MinValue))(maxValue,maxValue)\n",
    ")\n",
    "val depart = sc.textFile(\"dpts.txt\")\n",
    "val result= depart.join(freqByDept).map(d =>(d._2._1._5, (d._2._2._1, d._2._2._2)))\n",
    "result.take(10).foreach(println)\n"
   ]
  },
  {
   "cell_type": "code",
   "execution_count": null,
   "metadata": {},
   "outputs": [],
   "source": []
  }
 ],
 "metadata": {
  "kernelspec": {
   "display_name": "spylon-kernel",
   "language": "scala",
   "name": "spylon-kernel"
  },
  "language_info": {
   "codemirror_mode": "text/x-scala",
   "file_extension": ".scala",
   "help_links": [
    {
     "text": "MetaKernel Magics",
     "url": "https://metakernel.readthedocs.io/en/latest/source/README.html"
    }
   ],
   "mimetype": "text/x-scala",
   "name": "scala",
   "pygments_lexer": "scala",
   "version": "0.4.1"
  }
 },
 "nbformat": 4,
 "nbformat_minor": 2
}
