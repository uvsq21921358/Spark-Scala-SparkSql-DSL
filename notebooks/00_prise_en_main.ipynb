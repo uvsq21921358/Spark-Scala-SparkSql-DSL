{
 "cells": [
  {
   "cell_type": "markdown",
   "metadata": {},
   "source": [
    "# Vérification du fonctionnement de Spark\n",
    "1. Exécuter la cellule suivante"
   ]
  },
  {
   "cell_type": "code",
   "execution_count": 1,
   "metadata": {},
   "outputs": [
    {
     "data": {
      "text/plain": [
       "Intitializing Scala interpreter ..."
      ]
     },
     "metadata": {},
     "output_type": "display_data"
    },
    {
     "data": {
      "text/plain": [
       "Spark Web UI available at http://ca5f389260da:4041\n",
       "SparkContext available as 'sc' (version = 3.0.1, master = local[*], app id = local-1607640071581)\n",
       "SparkSession available as 'spark'\n"
      ]
     },
     "metadata": {},
     "output_type": "display_data"
    },
    {
     "data": {
      "text/plain": [
       "rdd: org.apache.spark.rdd.RDD[Int] = ParallelCollectionRDD[0] at parallelize at <console>:25\n",
       "res0: Array[Int] = Array(266, 375, 358, 838, 553)\n"
      ]
     },
     "execution_count": 1,
     "metadata": {},
     "output_type": "execute_result"
    }
   ],
   "source": [
    "val rdd = sc.parallelize(0 to 999)\n",
    "rdd.takeSample(false, 5)"
   ]
  },
  {
   "cell_type": "markdown",
   "metadata": {},
   "source": [
    "# Téléchargement du jeu de données\n",
    "1. Récupérer le jeu de données [Fichier des prénoms par départements de naissance (1900-2019)](https://www.data.gouv.fr/fr/datasets/ficher-des-prenoms-de-1900-a-2019/).\n",
    "1. Faire de même avec la [Liste des départements](https://www.insee.fr/fr/information/4316069#titre-bloc-15) (format csv)\n",
    "1. Extraire les fichiers des archives\n",
    "1. Renommer le fichier des prénoms en `prenoms.txt` et celui des départements en `dpts.txt`."
   ]
  }
 ],
 "metadata": {
  "kernelspec": {
   "display_name": "spylon-kernel",
   "language": "scala",
   "name": "spylon-kernel"
  },
  "language_info": {
   "codemirror_mode": "text/x-scala",
   "file_extension": ".scala",
   "help_links": [
    {
     "text": "MetaKernel Magics",
     "url": "https://metakernel.readthedocs.io/en/latest/source/README.html"
    }
   ],
   "mimetype": "text/x-scala",
   "name": "scala",
   "pygments_lexer": "scala",
   "version": "0.4.1"
  }
 },
 "nbformat": 4,
 "nbformat_minor": 2
}
