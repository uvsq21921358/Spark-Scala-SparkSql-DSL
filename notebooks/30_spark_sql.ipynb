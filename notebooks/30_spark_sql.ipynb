{
 "cells": [
  {
   "cell_type": "markdown",
   "metadata": {},
   "source": [
    "# Des classes pour représenter les données"
   ]
  },
  {
   "cell_type": "code",
   "execution_count": 30,
   "metadata": {},
   "outputs": [
    {
     "data": {
      "text/plain": [
       "defined class Prenom\n",
       "defined class Dept\n"
      ]
     },
     "execution_count": 30,
     "metadata": {},
     "output_type": "execute_result"
    }
   ],
   "source": [
    "case class Prenom(sexe: String, prenom: String, annee: Int, codeDept: Int, nombre: Int)\n",
    "case class Dept(region: Int, codeDept: String, chefLieu: String, typeNom: Int, nom: String, nomEnrichi: String)"
   ]
  },
  {
   "cell_type": "markdown",
   "metadata": {},
   "source": [
    "# Chargement des données\n",
    "1. Créer un dataset pour les prénoms"
   ]
  },
  {
   "cell_type": "code",
   "execution_count": 9,
   "metadata": {},
   "outputs": [
    {
     "data": {
      "text/plain": [
       "sparkRO: org.apache.spark.sql.SparkSession = org.apache.spark.sql.SparkSession@7067a0eb\n",
       "import sparkRO.implicits._\n"
      ]
     },
     "execution_count": 9,
     "metadata": {},
     "output_type": "execute_result"
    }
   ],
   "source": [
    "// Pour les conversions implicites de RDDs vers DataFrames\n",
    "val sparkRO = spark // bricolage pour que cela fonctionne dans le notebool (inutile sinon)\n",
    "import sparkRO.implicits._"
   ]
  },
  {
   "cell_type": "code",
   "execution_count": 10,
   "metadata": {},
   "outputs": [
    {
     "name": "stdout",
     "output_type": "stream",
     "text": [
      "+----+-------------+------+--------+-----+\n",
      "|sexe|       prenom|nombre|codeDept|annee|\n",
      "+----+-------------+------+--------+-----+\n",
      "|   1|       WASSIL|     5|      69| 2009|\n",
      "|   1|     ZACHARIA|     3|      69| 2009|\n",
      "|   2|   LEOPOLDINE|     4|      69| 2009|\n",
      "|   2|        LINDA|     9|      69| 2009|\n",
      "|   2|MARIE-TH�R�SE|    41|      57| 1961|\n",
      "|   2|   ROSE-MARIE|    14|      57| 1961|\n",
      "|   2|    ABIGAELLE|     5|      97| 2012|\n",
      "|   2|        A�CHA|     5|      97| 2012|\n",
      "|   2|      JOHANNA|    18|      97| 2012|\n",
      "|   1|         STAN|     3|      97| 2008|\n",
      "|   1|       YANAEL|     5|      97| 2008|\n",
      "|   2|        GRACE|     5|      97| 2008|\n",
      "|   1|       SECKOU|     3|      93| 2011|\n",
      "|   1|        SOREN|     6|      93| 2011|\n",
      "|   2|        DJENA|     3|      93| 2011|\n",
      "|   1|     ANASTASE|    10|      97| 1955|\n",
      "|   1|        DONAT|     4|      97| 1955|\n",
      "|   1|    FLORIBERT|     3|      97| 1955|\n",
      "|   1|       GILDAS|     4|      97| 1955|\n",
      "|   1|      JOAQUIN|     3|      75| 1955|\n",
      "+----+-------------+------+--------+-----+\n",
      "only showing top 20 rows\n",
      "\n"
     ]
    },
    {
     "data": {
      "text/plain": [
       "prenoms: org.apache.spark.sql.Dataset[Prenom] = [sexe: string, prenom: string ... 3 more fields]\n"
      ]
     },
     "execution_count": 10,
     "metadata": {},
     "output_type": "execute_result"
    }
   ],
   "source": [
    "val prenoms = spark.read.load(\"prenomsParDeptsEtAnnees.parquet\").as[Prenom]\n",
    "prenoms.createOrReplaceTempView(\"prenoms\")\n",
    "prenoms.show"
   ]
  },
  {
   "cell_type": "markdown",
   "metadata": {},
   "source": [
    "1. Faire de même pour les départements"
   ]
  },
  {
   "cell_type": "code",
   "execution_count": 24,
   "metadata": {
    "scrolled": true
   },
   "outputs": [
    {
     "name": "stdout",
     "output_type": "stream",
     "text": [
      "+------+--------+--------+-------+--------------------+--------------------+\n",
      "|region|codeDept|chefLieu|typeNom|                 nom|          nomEnrichi|\n",
      "+------+--------+--------+-------+--------------------+--------------------+\n",
      "|    44|      52|   52121|      3|         HAUTE-MARNE|         Haute-Marne|\n",
      "|    52|      53|   53130|      3|             MAYENNE|             Mayenne|\n",
      "|    44|      54|   54395|      0|  MEURTHE-ET-MOSELLE|  Meurthe-et-Moselle|\n",
      "|    44|      55|   55029|      3|               MEUSE|               Meuse|\n",
      "|    53|      56|   56260|      2|            MORBIHAN|            Morbihan|\n",
      "|    44|      57|   57463|      3|             MOSELLE|             Moselle|\n",
      "|    27|      58|   58194|      3|              NIEVRE|              Ni�vre|\n",
      "|    32|      59|   59350|      2|                NORD|                Nord|\n",
      "|    32|      60|   60057|      5|                OISE|                Oise|\n",
      "|    28|      61|   61001|      5|                ORNE|                Orne|\n",
      "|    32|      62|   62041|      2|       PAS-DE-CALAIS|       Pas-de-Calais|\n",
      "|    84|      63|   63113|      2|         PUY-DE-DOME|         Puy-de-D�me|\n",
      "|    75|      64|   64445|      4|PYRENEES-ATLANTIQUES|Pyr�n�es-Atlantiques|\n",
      "|    76|      65|   65440|      4|     HAUTES-PYRENEES|     Hautes-Pyr�n�es|\n",
      "|    76|      66|   66136|      4| PYRENEES-ORIENTALES| Pyr�n�es-Orientales|\n",
      "|    44|      67|   67482|      2|            BAS-RHIN|            Bas-Rhin|\n",
      "|    44|      68|   68066|      2|           HAUT-RHIN|           Haut-Rhin|\n",
      "|    84|      69|   69123|      2|               RHONE|               Rh�ne|\n",
      "|    27|      70|   70550|      3|         HAUTE-SAONE|         Haute-Sa�ne|\n",
      "|    27|      71|   71270|      0|      SAONE-ET-LOIRE|      Sa�ne-et-Loire|\n",
      "+------+--------+--------+-------+--------------------+--------------------+\n",
      "only showing top 20 rows\n",
      "\n"
     ]
    },
    {
     "data": {
      "text/plain": [
       "deps: org.apache.spark.sql.Dataset[Dept] = [region: int, codeDept: string ... 4 more fields]\n"
      ]
     },
     "execution_count": 24,
     "metadata": {},
     "output_type": "execute_result"
    }
   ],
   "source": [
    "//TODO\n",
    "val deps = spark.read.load(\"depts.parquet\").as[Dept]\n",
    "deps.createOrReplaceTempView(\"deps\")\n",
    "deps.show"
   ]
  },
  {
   "cell_type": "markdown",
   "metadata": {},
   "source": [
    "# Interroger les données"
   ]
  },
  {
   "cell_type": "markdown",
   "metadata": {},
   "source": [
    "* La documentation sur Spark SQL est disponible [ici](https://spark.apache.org/docs/latest/sql-programming-guide.html) (de même pour [Dataset](https://spark.apache.org/docs/latest/api/scala/index.html#org.apache.spark.sql.Dataset))\n",
    "* Pour chaque question, vous donnerez la réponse avec le DSL et en SQL"
   ]
  },
  {
   "cell_type": "markdown",
   "metadata": {},
   "source": [
    "1. Donner, pour chaque prénom, son nombre d'occurences"
   ]
  },
  {
   "cell_type": "markdown",
   "metadata": {},
   "source": [
    "## DSL"
   ]
  },
  {
   "cell_type": "code",
   "execution_count": 21,
   "metadata": {},
   "outputs": [
    {
     "name": "stdout",
     "output_type": "stream",
     "text": [
      "+------------+-----------+\n",
      "|      prenom|sum(nombre)|\n",
      "+------------+-----------+\n",
      "|       NORIA|          3|\n",
      "|        ANNA|         90|\n",
      "|        JADE|          7|\n",
      "|     L�ANDRE|          3|\n",
      "|      ELIANE|         75|\n",
      "|     MATTHEW|          4|\n",
      "|      SALOM�|         46|\n",
      "|    ALPHONSE|         72|\n",
      "|      FRANCK|        423|\n",
      "|       MORAD|          8|\n",
      "|       MARAM|          3|\n",
      "|       GRACE|          5|\n",
      "|SAINTE-CROIX|          6|\n",
      "|    FERNANDA|          3|\n",
      "|        JO�L|        110|\n",
      "|      ANNICK|         75|\n",
      "|      LUCILE|          3|\n",
      "|      SANDIE|          5|\n",
      "|      AMEDEE|         10|\n",
      "|       FABIO|         29|\n",
      "+------------+-----------+\n",
      "only showing top 20 rows\n",
      "\n"
     ]
    }
   ],
   "source": [
    "//TODO\n",
    "prenoms.groupBy(\"prenom\").agg(sum(\"nombre\")).show"
   ]
  },
  {
   "cell_type": "markdown",
   "metadata": {},
   "source": [
    "## SQL"
   ]
  },
  {
   "cell_type": "code",
   "execution_count": 17,
   "metadata": {},
   "outputs": [
    {
     "name": "stdout",
     "output_type": "stream",
     "text": [
      "+------------+-----------+\n",
      "|      prenom|sum(nombre)|\n",
      "+------------+-----------+\n",
      "|       NORIA|          3|\n",
      "|        ANNA|         90|\n",
      "|        JADE|          7|\n",
      "|     L�ANDRE|          3|\n",
      "|      ELIANE|         75|\n",
      "|     MATTHEW|          4|\n",
      "|      SALOM�|         46|\n",
      "|    ALPHONSE|         72|\n",
      "|      FRANCK|        423|\n",
      "|       MORAD|          8|\n",
      "|       MARAM|          3|\n",
      "|       GRACE|          5|\n",
      "|SAINTE-CROIX|          6|\n",
      "|    FERNANDA|          3|\n",
      "|        JO�L|        110|\n",
      "|      ANNICK|         75|\n",
      "|      LUCILE|          3|\n",
      "|      SANDIE|          5|\n",
      "|      AMEDEE|         10|\n",
      "|       FABIO|         29|\n",
      "+------------+-----------+\n",
      "only showing top 20 rows\n",
      "\n"
     ]
    }
   ],
   "source": [
    "//TODO\n",
    "spark.sql(\"select prenom, sum(nombre) from prenoms group by prenom\").show"
   ]
  },
  {
   "cell_type": "markdown",
   "metadata": {},
   "source": [
    "1. Donner le nombre total de naissances avec un prénom féminin"
   ]
  },
  {
   "cell_type": "markdown",
   "metadata": {},
   "source": [
    "## DSL"
   ]
  },
  {
   "cell_type": "code",
   "execution_count": 12,
   "metadata": {},
   "outputs": [
    {
     "name": "stdout",
     "output_type": "stream",
     "text": [
      "+-----------+\n",
      "|sum(nombre)|\n",
      "+-----------+\n",
      "|      33273|\n",
      "+-----------+\n",
      "\n"
     ]
    }
   ],
   "source": [
    "//TODO\n",
    "prenoms.where($\"sexe\">1).agg(sum(\"nombre\")).show"
   ]
  },
  {
   "cell_type": "markdown",
   "metadata": {},
   "source": [
    "## SQL"
   ]
  },
  {
   "cell_type": "code",
   "execution_count": 22,
   "metadata": {},
   "outputs": [
    {
     "name": "stdout",
     "output_type": "stream",
     "text": [
      "+-----------+\n",
      "|sum(nombre)|\n",
      "+-----------+\n",
      "|      33273|\n",
      "+-----------+\n",
      "\n"
     ]
    }
   ],
   "source": [
    "//TODO\n",
    "spark.sql(\"select sum(nombre) from prenoms where sexe =2\").show"
   ]
  },
  {
   "cell_type": "markdown",
   "metadata": {},
   "source": [
    "1. Donner l'effectif maximal et minimal par prénom"
   ]
  },
  {
   "cell_type": "markdown",
   "metadata": {},
   "source": [
    "## DSL"
   ]
  },
  {
   "cell_type": "code",
   "execution_count": 66,
   "metadata": {},
   "outputs": [
    {
     "name": "stdout",
     "output_type": "stream",
     "text": [
      "+------------+-----------+-----------+\n",
      "|      prenom|min(nombre)|max(nombre)|\n",
      "+------------+-----------+-----------+\n",
      "|       NORIA|          3|          3|\n",
      "|        ANNA|          3|         55|\n",
      "|        JADE|          7|          7|\n",
      "|     L�ANDRE|          3|          3|\n",
      "|      ELIANE|          6|         39|\n",
      "|     MATTHEW|          4|          4|\n",
      "|      SALOM�|          6|         28|\n",
      "|    ALPHONSE|         24|         48|\n",
      "|      FRANCK|          3|        203|\n",
      "|       MORAD|          8|          8|\n",
      "|       MARAM|          3|          3|\n",
      "|       GRACE|          5|          5|\n",
      "|SAINTE-CROIX|          6|          6|\n",
      "|    FERNANDA|          3|          3|\n",
      "|        JO�L|          3|         48|\n",
      "|      ANNICK|          9|         66|\n",
      "|      LUCILE|          3|          3|\n",
      "|      SANDIE|          5|          5|\n",
      "|      AMEDEE|          5|          5|\n",
      "|       FABIO|          3|         26|\n",
      "+------------+-----------+-----------+\n",
      "only showing top 20 rows\n",
      "\n"
     ]
    }
   ],
   "source": [
    "//TODO\n",
    "prenoms.groupBy(\"prenom\").agg(min(\"nombre\"), max(\"nombre\")).show"
   ]
  },
  {
   "cell_type": "markdown",
   "metadata": {},
   "source": [
    "## SQL"
   ]
  },
  {
   "cell_type": "code",
   "execution_count": 24,
   "metadata": {},
   "outputs": [
    {
     "name": "stdout",
     "output_type": "stream",
     "text": [
      "+------------+-----------+-----------+\n",
      "|      prenom|min(nombre)|max(nombre)|\n",
      "+------------+-----------+-----------+\n",
      "|       NORIA|          3|          3|\n",
      "|        ANNA|          3|         55|\n",
      "|        JADE|          7|          7|\n",
      "|     L�ANDRE|          3|          3|\n",
      "|      ELIANE|          6|         39|\n",
      "|     MATTHEW|          4|          4|\n",
      "|      SALOM�|          6|         28|\n",
      "|    ALPHONSE|         24|         48|\n",
      "|      FRANCK|          3|        203|\n",
      "|       MORAD|          8|          8|\n",
      "|       MARAM|          3|          3|\n",
      "|       GRACE|          5|          5|\n",
      "|SAINTE-CROIX|          6|          6|\n",
      "|    FERNANDA|          3|          3|\n",
      "|        JO�L|          3|         48|\n",
      "|      ANNICK|          9|         66|\n",
      "|      LUCILE|          3|          3|\n",
      "|      SANDIE|          5|          5|\n",
      "|      AMEDEE|          5|          5|\n",
      "|       FABIO|          3|         26|\n",
      "+------------+-----------+-----------+\n",
      "only showing top 20 rows\n",
      "\n"
     ]
    }
   ],
   "source": [
    "//TODO\n",
    "spark.sql(\"select prenom, Min(nombre), Max(nombre)from prenoms group by prenom\").show"
   ]
  },
  {
   "cell_type": "markdown",
   "metadata": {},
   "source": [
    "1. Donner, pour chaque nom de département, le nombre moyen de prénoms depuis l'année 2000"
   ]
  },
  {
   "cell_type": "markdown",
   "metadata": {},
   "source": [
    "## DSL"
   ]
  },
  {
   "cell_type": "code",
   "execution_count": 35,
   "metadata": {},
   "outputs": [
    {
     "name": "stdout",
     "output_type": "stream",
     "text": [
      "+-------------------+-----------+\n",
      "|                nom|sum(nombre)|\n",
      "+-------------------+-----------+\n",
      "|     SEINE-ET-MARNE|        188|\n",
      "|PYRENEES-ORIENTALES|         71|\n",
      "|      HAUTE-GARONNE|        204|\n",
      "|        HAUTE-SAONE|          5|\n",
      "|               AUBE|         30|\n",
      "|    ILLE-ET-VILAINE|         89|\n",
      "|    ALPES-MARITIMES|        172|\n",
      "|     LOT-ET-GARONNE|         44|\n",
      "|             LOIRET|         22|\n",
      "|           ARDENNES|          6|\n",
      "|               NORD|        581|\n",
      "|       EURE-ET-LOIR|         19|\n",
      "|             VIENNE|         48|\n",
      "|              DOUBS|         66|\n",
      "|             ARIEGE|         10|\n",
      "|           CALVADOS|         28|\n",
      "|              RHONE|        519|\n",
      "|     HAUTS-DE-SEINE|        334|\n",
      "|             LANDES|         23|\n",
      "|              PARIS|        441|\n",
      "+-------------------+-----------+\n",
      "only showing top 20 rows\n",
      "\n"
     ]
    }
   ],
   "source": [
    "//TODO\n",
    "prenoms.join(deps,prenoms(\"codeDept\")===deps(\"codeDept\")).where($\"annee\">2000).groupBy(deps(\"nom\"))\n",
    ".agg(\"nombre\"->\"SUM\").show"
   ]
  },
  {
   "cell_type": "code",
   "execution_count": null,
   "metadata": {},
   "outputs": [],
   "source": []
  },
  {
   "cell_type": "markdown",
   "metadata": {},
   "source": [
    "## SQL"
   ]
  },
  {
   "cell_type": "code",
   "execution_count": 32,
   "metadata": {},
   "outputs": [
    {
     "name": "stdout",
     "output_type": "stream",
     "text": [
      "+------------------+---------------+-------------------+\n",
      "|       avg(nombre)|first(codeDept)|                nom|\n",
      "+------------------+---------------+-------------------+\n",
      "|              13.5|             77|     SEINE-ET-MARNE|\n",
      "|              17.0|             66|PYRENEES-ORIENTALES|\n",
      "|              10.6|             31|      HAUTE-GARONNE|\n",
      "|               5.0|             70|        HAUTE-SAONE|\n",
      "|              10.0|             10|               AUBE|\n",
      "|10.333333333333334|             35|    ILLE-ET-VILAINE|\n",
      "|              14.0|             06|    ALPES-MARITIMES|\n",
      "|14.666666666666666|             47|     LOT-ET-GARONNE|\n",
      "|               4.4|             45|             LOIRET|\n",
      "|               3.0|             08|           ARDENNES|\n",
      "|             29.25|             59|               NORD|\n",
      "|               9.5|             28|       EURE-ET-LOIR|\n",
      "|               9.6|             86|             VIENNE|\n",
      "| 7.333333333333333|             25|              DOUBS|\n",
      "|               5.0|             09|             ARIEGE|\n",
      "|               4.0|             14|           CALVADOS|\n",
      "|          16.59375|             69|              RHONE|\n",
      "|15.904761904761905|             92|     HAUTS-DE-SEINE|\n",
      "|               9.0|             40|             LANDES|\n",
      "|             17.64|             75|              PARIS|\n",
      "+------------------+---------------+-------------------+\n",
      "only showing top 20 rows\n",
      "\n"
     ]
    }
   ],
   "source": [
    "//TODO\n",
    "spark.sql(\"select avg(p.nombre), first(d.codeDept), d.nom from prenoms p, Deps d where p.annee >= 2000 and d.codeDept=p.codeDept group by d.nom\").show"
   ]
  },
  {
   "cell_type": "code",
   "execution_count": null,
   "metadata": {},
   "outputs": [],
   "source": []
  }
 ],
 "metadata": {
  "kernelspec": {
   "display_name": "spylon-kernel",
   "language": "scala",
   "name": "spylon-kernel"
  },
  "language_info": {
   "codemirror_mode": "text/x-scala",
   "file_extension": ".scala",
   "help_links": [
    {
     "text": "MetaKernel Magics",
     "url": "https://metakernel.readthedocs.io/en/latest/source/README.html"
    }
   ],
   "mimetype": "text/x-scala",
   "name": "scala",
   "pygments_lexer": "scala",
   "version": "0.4.1"
  }
 },
 "nbformat": 4,
 "nbformat_minor": 2
}
