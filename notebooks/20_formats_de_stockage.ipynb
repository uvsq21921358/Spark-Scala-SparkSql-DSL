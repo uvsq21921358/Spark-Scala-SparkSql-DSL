{
 "cells": [
  {
   "cell_type": "markdown",
   "metadata": {},
   "source": [
    "# Des classes pour représenter les données"
   ]
  },
  {
   "cell_type": "markdown",
   "metadata": {},
   "source": [
    "## Pour les prénoms"
   ]
  },
  {
   "cell_type": "code",
   "execution_count": 1,
   "metadata": {},
   "outputs": [
    {
     "data": {
      "text/plain": [
       "Intitializing Scala interpreter ..."
      ]
     },
     "metadata": {},
     "output_type": "display_data"
    },
    {
     "data": {
      "text/plain": [
       "Spark Web UI available at http://ca5f389260da:4043\n",
       "SparkContext available as 'sc' (version = 3.0.1, master = local[*], app id = local-1607645857750)\n",
       "SparkSession available as 'spark'\n"
      ]
     },
     "metadata": {},
     "output_type": "display_data"
    },
    {
     "data": {
      "text/plain": [
       "defined class Prenom\n"
      ]
     },
     "execution_count": 1,
     "metadata": {},
     "output_type": "execute_result"
    }
   ],
   "source": [
    "case class Prenom(sexe: String, prenom: String, annee: Int, codeDept: Int, nombre: Int)"
   ]
  },
  {
   "cell_type": "code",
   "execution_count": 2,
   "metadata": {},
   "outputs": [
    {
     "name": "stdout",
     "output_type": "stream",
     "text": [
      "Prenom(2,ARIANE,2007,91,10), Prenom(2,CASSIOPEE,2009,91,3), Prenom(1,HELIOS,2012,91,1)\n"
     ]
    },
    {
     "data": {
      "text/plain": [
       "ariane: Prenom = Prenom(2,ARIANE,2007,91,10)\n",
       "cassiopee: Prenom = Prenom(2,CASSIOPEE,2009,91,3)\n",
       "helios: Prenom = Prenom(1,HELIOS,2012,91,1)\n"
      ]
     },
     "execution_count": 2,
     "metadata": {},
     "output_type": "execute_result"
    }
   ],
   "source": [
    "val ariane = Prenom(\"2\", \"ARIANE\", 2007, 91, 10)\n",
    "val cassiopee = Prenom(\"2\", \"CASSIOPEE\", 2009, 91, 3)\n",
    "val helios = Prenom(\"1\", \"HELIOS\", 2012, 91, 1)\n",
    "println(s\"$ariane, $cassiopee, $helios\")"
   ]
  },
  {
   "cell_type": "markdown",
   "metadata": {},
   "source": [
    "## Pour les départements"
   ]
  },
  {
   "cell_type": "code",
   "execution_count": 3,
   "metadata": {},
   "outputs": [
    {
     "data": {
      "text/plain": [
       "defined class Dept\n"
      ]
     },
     "execution_count": 3,
     "metadata": {},
     "output_type": "execute_result"
    }
   ],
   "source": [
    "case class Dept(region: Int, codeDept: String, chefLieu: String, typeNom: Int, nom: String, nomEnrichi: String)"
   ]
  },
  {
   "cell_type": "code",
   "execution_count": 4,
   "metadata": {},
   "outputs": [
    {
     "name": "stdout",
     "output_type": "stream",
     "text": [
      "Dept(84,63,63113,2,PUY-DE-DOME,Puy-de-Dôme)\n"
     ]
    },
    {
     "data": {
      "text/plain": [
       "puyDeDome: Dept = Dept(84,63,63113,2,PUY-DE-DOME,Puy-de-Dôme)\n"
      ]
     },
     "execution_count": 4,
     "metadata": {},
     "output_type": "execute_result"
    }
   ],
   "source": [
    "val puyDeDome = Dept(84, \"63\", \"63113\", 2, \"PUY-DE-DOME\", \"Puy-de-Dôme\")\n",
    "println(puyDeDome)"
   ]
  },
  {
   "cell_type": "markdown",
   "metadata": {},
   "source": [
    "# Chargement des données"
   ]
  },
  {
   "cell_type": "code",
   "execution_count": 5,
   "metadata": {},
   "outputs": [
    {
     "data": {
      "text/plain": [
       "sparkRO: org.apache.spark.sql.SparkSession = org.apache.spark.sql.SparkSession@14c895f5\n",
       "import sparkRO.implicits._\n"
      ]
     },
     "execution_count": 5,
     "metadata": {},
     "output_type": "execute_result"
    }
   ],
   "source": [
    "// Pour les conversions implicites de RDDs vers DataFrames\n",
    "val sparkRO = spark // bricolage pour que cela fonctionne dans le notebool (inutile sinon)\n",
    "import sparkRO.implicits._"
   ]
  },
  {
   "cell_type": "markdown",
   "metadata": {},
   "source": [
    "## Chargement des prénoms"
   ]
  },
  {
   "cell_type": "code",
   "execution_count": 6,
   "metadata": {},
   "outputs": [],
   "source": [
    "val lignes = spark.sparkContext.textFile(\"prenoms_sample.txt\")\n",
    "val prenomsRDD = lignes.map(_.split('\\t')).map(a => Prenom(a(0), a(1), a(2).toInt, a(3).toInt, a(4).toDouble.toInt))\n",
    "val prenoms = prenomsRDD.toDS()\n",
    "prenoms.show() // échoue ici mais fonctionne dans spark-shell ?!?"
   ]
  },
  {
   "cell_type": "markdown",
   "metadata": {},
   "source": [
    "## Chargement des départements"
   ]
  },
  {
   "cell_type": "code",
   "execution_count": 7,
   "metadata": {},
   "outputs": [],
   "source": [
    "val lignesDept = spark.sparkContext.textFile(\"dpts.txt\").filter(l => l.startsWith(\"REGION\") == false)\n",
    "val deptsRDD = lignesDept.map(_.split('\\t')).map(a => Dept(a(0).toInt, a(1), a(2), a(3).toInt, a(4), a(5)))\n",
    "val depts = deptsRDD.toDS()\n",
    "depts.show() // échoue ici mais fonctionne dans spark-shell ?!?"
   ]
  },
  {
   "cell_type": "markdown",
   "metadata": {},
   "source": [
    "# Sauve les données au format parquet"
   ]
  },
  {
   "cell_type": "markdown",
   "metadata": {},
   "source": [
    "## Les prénoms partitionnés par départements et années et compressés (Snappy)"
   ]
  },
  {
   "cell_type": "code",
   "execution_count": 10,
   "metadata": {},
   "outputs": [
    {
     "ename": "<console>",
     "evalue": "2: error: identifier expected but 'for' found.",
     "output_type": "error",
     "traceback": [
      "<console>:2: error: identifier expected but 'for' found.",
      "       prenoms.write.partitionBy(\"codeDept\", \"annee\").for",
      "                                                      ^",
      ""
     ]
    }
   ],
   "source": [
    "prenoms.write.partitionBy(\"codeDept\", \"annee\").for\n",
    "mat(\"parquet\").save(\"prenomsParDeptsEtAnnees.parquet\")"
   ]
  },
  {
   "cell_type": "markdown",
   "metadata": {},
   "source": [
    "## Les prénoms partitionnés par départements et années et compressés (gzip)"
   ]
  },
  {
   "cell_type": "code",
   "execution_count": 8,
   "metadata": {},
   "outputs": [
    {
     "ename": "<console>",
     "evalue": "31: error: not found: value prenoms",
     "output_type": "error",
     "traceback": [
      "<console>:31: error: not found: value prenoms",
      "       prenoms.write.partitionBy(\"codeDept\", \"annee\").option(\"compression\", \"gzip\").format(\"parquet\").save(\"prenomsParDeptsEtAnnees.gzip.parquet\")",
      "       ^",
      ""
     ]
    }
   ],
   "source": [
    "prenoms.write.partitionBy(\"codeDept\", \"annee\").option(\"compression\", \"gzip\").format(\"parquet\").save(\"prenomsParDeptsEtAnnees.gzip.parquet\")"
   ]
  },
  {
   "cell_type": "markdown",
   "metadata": {},
   "source": [
    "## Les départements"
   ]
  },
  {
   "cell_type": "code",
   "execution_count": 9,
   "metadata": {},
   "outputs": [
    {
     "ename": "<console>",
     "evalue": "31: error: not found: value depts",
     "output_type": "error",
     "traceback": [
      "<console>:31: error: not found: value depts",
      "       depts.write.format(\"parquet\").save(\"depts.parquet\")",
      "       ^",
      ""
     ]
    }
   ],
   "source": [
    "depts.write.format(\"parquet\").save(\"depts.parquet\")"
   ]
  },
  {
   "cell_type": "code",
   "execution_count": null,
   "metadata": {},
   "outputs": [],
   "source": []
  }
 ],
 "metadata": {
  "kernelspec": {
   "display_name": "spylon-kernel",
   "language": "scala",
   "name": "spylon-kernel"
  },
  "language_info": {
   "codemirror_mode": "text/x-scala",
   "file_extension": ".scala",
   "help_links": [
    {
     "text": "MetaKernel Magics",
     "url": "https://metakernel.readthedocs.io/en/latest/source/README.html"
    }
   ],
   "mimetype": "text/x-scala",
   "name": "scala",
   "pygments_lexer": "scala",
   "version": "0.4.1"
  }
 },
 "nbformat": 4,
 "nbformat_minor": 2
}
